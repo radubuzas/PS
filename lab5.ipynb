{
 "cells": [
  {
   "cell_type": "code",
   "execution_count": 52,
   "metadata": {
    "collapsed": true,
    "ExecuteTime": {
     "start_time": "2023-11-09T17:01:59.482252Z",
     "end_time": "2023-11-09T17:01:59.485228Z"
    }
   },
   "outputs": [
    {
     "name": "stderr",
     "output_type": "stream",
     "text": [
      "/var/folders/3v/wnjt1q_12gn5lscn_jqcbpy40000gn/T/ipykernel_21346/2236703401.py:4: MatplotlibDeprecationWarning: The seaborn styles shipped by Matplotlib are deprecated since 3.6, as they no longer correspond to the styles shipped by seaborn. However, they will remain available as 'seaborn-v0_8-<style>'. Alternatively, directly use the seaborn API instead.\n",
      "  plt.style.use('seaborn-whitegrid')\n"
     ]
    }
   ],
   "source": [
    "import numpy as np\n",
    "import matplotlib.pyplot as plt\n",
    "import csv\n",
    "plt.style.use('seaborn-whitegrid')"
   ]
  },
  {
   "cell_type": "code",
   "execution_count": 44,
   "outputs": [
    {
     "name": "stdout",
     "output_type": "stream",
     "text": [
      "[(    0, '25-08-2012 00:00',   8) (    1, '25-08-2012 01:00',   2)\n",
      " (    2, '25-08-2012 02:00',   6) ... (18285, '25-09-2014 21:00', 702)\n",
      " (18286, '25-09-2014 22:00', 580) (18287, '25-09-2014 23:00', 534)]\n"
     ]
    }
   ],
   "source": [
    "x = np.genfromtxt('archive/Train.csv', dtype=[int, 'U19', int], delimiter=',', skip_header=1)\n",
    "print(x)"
   ],
   "metadata": {
    "collapsed": false,
    "ExecuteTime": {
     "start_time": "2023-11-09T16:52:39.961242Z",
     "end_time": "2023-11-09T16:52:39.996560Z"
    }
   }
  },
  {
   "cell_type": "code",
   "execution_count": 77,
   "outputs": [
    {
     "name": "stdout",
     "output_type": "stream",
     "text": [
      "Primul esantion:  25-08-2012 00:00\n",
      "Al doilea esantion:  25-08-2012 01:00\n",
      "Frecventa de esantionare este 1/3600\n"
     ]
    }
   ],
   "source": [
    "#a\n",
    "print('Primul esantion: ', x[0][1])\n",
    "print('Al doilea esantion: ', x[1][1])\n",
    "\n",
    "print('Frecventa de esantionare este 1/3600')\n",
    "fs = 1/3600"
   ],
   "metadata": {
    "collapsed": false,
    "ExecuteTime": {
     "start_time": "2023-11-09T17:26:26.881375Z",
     "end_time": "2023-11-09T17:26:26.883287Z"
    }
   }
  },
  {
   "cell_type": "code",
   "execution_count": 35,
   "outputs": [
    {
     "name": "stdout",
     "output_type": "stream",
     "text": [
      "Semnalul a fost esantionat pe 762.0 zile\n"
     ]
    }
   ],
   "source": [
    "#b\n",
    "print('Semnalul a fost esantionat pe', len(x) / 24 , 'zile')"
   ],
   "metadata": {
    "collapsed": false,
    "ExecuteTime": {
     "start_time": "2023-11-09T16:51:29.578541Z",
     "end_time": "2023-11-09T16:51:29.586460Z"
    }
   }
  },
  {
   "cell_type": "code",
   "execution_count": 35,
   "outputs": [],
   "source": [
    "#c\n",
    "'''\n",
    "fs/2 = 1/7200\n",
    "'''"
   ],
   "metadata": {
    "collapsed": false,
    "ExecuteTime": {
     "start_time": "2023-11-09T16:51:30.067245Z",
     "end_time": "2023-11-09T16:51:30.072741Z"
    }
   }
  },
  {
   "cell_type": "code",
   "execution_count": 86,
   "outputs": [
    {
     "data": {
      "text/plain": "<Figure size 640x480 with 1 Axes>",
      "image/png": "[encoded data removed]"
     },
     "metadata": {},
     "output_type": "display_data"
    }
   ],
   "source": [
    "#d\n",
    "no_cars = np.array([a[2] for a in x])\n",
    "\n",
    "N: int = len(no_cars)\n",
    "\n",
    "X = np.fft.fft(no_cars)[:N//2]\n",
    "\n",
    "X = np.abs(X)\n",
    "\n",
    "X = X[:N//2]\n",
    "\n",
    "f = fs * np.linspace(0, N//2, N//2) / N\n",
    "\n",
    "plt.xlabel('Frequency')\n",
    "plt.ylabel('Magnitude')\n",
    "\n",
    "plt.plot(f, X)\n",
    "plt.show()"
   ],
   "metadata": {
    "collapsed": false,
    "ExecuteTime": {
     "start_time": "2023-11-09T17:30:02.048187Z",
     "end_time": "2023-11-09T17:30:02.118427Z"
    }
   }
  },
  {
   "cell_type": "code",
   "execution_count": null,
   "outputs": [],
   "source": [
    "#e\n",
    "\n"
   ],
   "metadata": {
    "collapsed": false
   }
  }
 ],
 "metadata": {
  "kernelspec": {
   "display_name": "Python 3",
   "language": "python",
   "name": "python3"
  },
  "language_info": {
   "codemirror_mode": {
    "name": "ipython",
    "version": 2
   },
   "file_extension": ".py",
   "mimetype": "text/x-python",
   "name": "python",
   "nbconvert_exporter": "python",
   "pygments_lexer": "ipython2",
   "version": "2.7.6"
  }
 },
 "nbformat": 4,
 "nbformat_minor": 0
}
