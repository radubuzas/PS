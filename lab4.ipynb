{
 "cells": [
  {
   "cell_type": "code",
   "execution_count": 2,
   "metadata": {
    "collapsed": true,
    "ExecuteTime": {
     "start_time": "2023-11-02T16:32:52.157936Z",
     "end_time": "2023-11-02T16:32:52.458758Z"
    }
   },
   "outputs": [
    {
     "name": "stderr",
     "output_type": "stream",
     "text": [
      "/var/folders/3v/wnjt1q_12gn5lscn_jqcbpy40000gn/T/ipykernel_2229/1042931510.py:5: MatplotlibDeprecationWarning: The seaborn styles shipped by Matplotlib are deprecated since 3.6, as they no longer correspond to the styles shipped by seaborn. However, they will remain available as 'seaborn-v0_8-<style>'. Alternatively, directly use the seaborn API instead.\n",
      "  plt.style.use('seaborn-whitegrid')\n"
     ]
    }
   ],
   "source": [
    "import numpy as np\n",
    "import matplotlib.pyplot as plt\n",
    "import time\n",
    "\n",
    "plt.style.use('seaborn-whitegrid')"
   ]
  },
  {
   "cell_type": "code",
   "execution_count": 32,
   "outputs": [
    {
     "name": "stdout",
     "output_type": "stream",
     "text": [
      "False\n",
      "False\n",
      "False\n",
      "False\n",
      "False\n",
      "False\n",
      "False\n"
     ]
    },
    {
     "data": {
      "text/plain": "<Figure size 640x480 with 1 Axes>",
      "image/png": "[encoded data removed]"
     },
     "metadata": {},
     "output_type": "display_data"
    }
   ],
   "source": [
    "matrix_size = [128, 256, 512, 1024, 2048, 4096, 8192]\n",
    "\n",
    "def initFourier(N: int) -> np.array:\n",
    "    F: np.array = np.empty((N, N), dtype='complex128')\n",
    "    for i in range(N):\n",
    "        for k in range(N):\n",
    "            F[i][k] = np.exp(2 * np.pi * i * 1j * k / N)\n",
    "\n",
    "    return F\n",
    "#\n",
    "index = [0, 1, 2, 3, 4, 5, 6]\n",
    "time_vector_0 = []\n",
    "time_vector_1 = []\n",
    "\n",
    "for n in matrix_size:\n",
    "    t = np.linspace(0, 1, n)\n",
    "    sin = np.sin(2*np.pi * t)\n",
    "    t0 = time.time()\n",
    "    ret1 = np.matmul(initFourier(n), sin)\n",
    "    t0_fin = time.time() - t0\n",
    "    time_vector_0.append(t0_fin)\n",
    "\n",
    "    t0 = time.time()\n",
    "    ret2 = np.fft.fft(sin)\n",
    "    t1_fin = time.time() - t0\n",
    "    time_vector_1.append(t1_fin)\n",
    "    print(np.linalg.norm(np.abs(ret1 - ret2)) < 0.0001)\n",
    "\n",
    "\n",
    "\n",
    "plt.yscale('log')\n",
    "plt.stem(index, time_vector_0, label='DFT')\n",
    "plt.stem(index, time_vector_1, label='FFT', markerfmt='C1x')\n",
    "plt.legend()\n",
    "\n",
    "plt.show()"
   ],
   "metadata": {
    "collapsed": false,
    "ExecuteTime": {
     "start_time": "2023-11-02T16:49:02.868980Z",
     "end_time": "2023-11-02T16:49:52.074160Z"
    }
   }
  },
  {
   "cell_type": "code",
   "execution_count": null,
   "outputs": [],
   "source": [],
   "metadata": {
    "collapsed": false
   }
  }
 ],
 "metadata": {
  "kernelspec": {
   "display_name": "Python 3",
   "language": "python",
   "name": "python3"
  },
  "language_info": {
   "codemirror_mode": {
    "name": "ipython",
    "version": 2
   },
   "file_extension": ".py",
   "mimetype": "text/x-python",
   "name": "python",
   "nbconvert_exporter": "python",
   "pygments_lexer": "ipython2",
   "version": "2.7.6"
  }
 },
 "nbformat": 4,
 "nbformat_minor": 0
}
